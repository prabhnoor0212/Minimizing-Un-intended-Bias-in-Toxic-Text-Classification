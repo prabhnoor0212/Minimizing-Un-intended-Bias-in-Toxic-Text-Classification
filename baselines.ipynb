{
  "nbformat": 4,
  "nbformat_minor": 0,
  "metadata": {
    "kernelspec": {
      "display_name": "Python 3",
      "language": "python",
      "name": "python3"
    },
    "language_info": {
      "name": "python",
      "version": "3.6.6",
      "mimetype": "text/x-python",
      "codemirror_mode": {
        "name": "ipython",
        "version": 3
      },
      "pygments_lexer": "ipython3",
      "nbconvert_exporter": "python",
      "file_extension": ".py"
    },
    "colab": {
      "name": "baselines.ipynb",
      "provenance": [],
      "collapsed_sections": []
    }
  },
  "cells": [
    {
      "cell_type": "code",
      "metadata": {
        "_cell_guid": "b1076dfc-b9ad-4769-8c92-a6c4dae69d19",
        "_uuid": "8f2839f25d086af736a60e9eeb907d3b93b6e0e5",
        "trusted": true,
        "id": "BlOAjWi7clHW",
        "outputId": "6b1087f3-fe86-4a41-da5f-dbad890e43eb"
      },
      "source": [
        "import numpy as np\n",
        "import pandas as pd\n",
        "import os\n",
        "import time\n",
        "import gc\n",
        "import random\n",
        "import nltk"
      ],
      "execution_count": null,
      "outputs": [
        {
          "output_type": "stream",
          "text": [
            "Using TensorFlow backend.\n"
          ],
          "name": "stderr"
        }
      ]
    },
    {
      "cell_type": "code",
      "metadata": {
        "trusted": true,
        "id": "oROHY6dyclHY"
      },
      "source": [
        "CRAWL_EMBEDDING_PATH = '../input/fasttext-crawl-300d-2m/crawl-300d-2M.vec'\n",
        "GLOVE_EMBEDDING_PATH = '../input/glove840b300dtxt/glove.840B.300d.txt'"
      ],
      "execution_count": null,
      "outputs": []
    },
    {
      "cell_type": "code",
      "metadata": {
        "trusted": true,
        "id": "UOcmww0mclHZ"
      },
      "source": [
        "max_features=None"
      ],
      "execution_count": null,
      "outputs": []
    },
    {
      "cell_type": "code",
      "metadata": {
        "_cell_guid": "79c7e3d0-c299-4dcb-8224-4455121ee9b0",
        "_uuid": "d629ff2d2480ee46fbb7e2d37f6b5fab8052498a",
        "trusted": true,
        "id": "j4x6_XgHclHZ"
      },
      "source": [
        "def get_coefs(word, *arr):\n",
        "    return word, np.asarray(arr, dtype='float32')\n",
        "\n",
        "def load_embeddings(path):\n",
        "    with open(path) as f:\n",
        "        return dict(get_coefs(*line.strip().split(' ')) for line in tqdm(f))\n",
        "\n",
        "def build_matrix(word_index, path):\n",
        "    embedding_index = load_embeddings(path)\n",
        "    embedding_matrix = np.zeros((len(word_index) + 1, 300))\n",
        "    unknown_words = []\n",
        "    \n",
        "    for word, i in word_index.items():\n",
        "        try:\n",
        "            embedding_matrix[i] = embedding_index[word]\n",
        "        except KeyError:\n",
        "            unknown_words.append(word)\n",
        "    return embedding_matrix, unknown_words"
      ],
      "execution_count": null,
      "outputs": []
    },
    {
      "cell_type": "code",
      "metadata": {
        "trusted": true,
        "id": "rIETMB-jclHb"
      },
      "source": [
        "def preprocess(data):\n",
        "    '''\n",
        "    Credit goes to https://www.kaggle.com/gpreda/jigsaw-fast-compact-solution\n",
        "    '''\n",
        "    punct = \"/-'?!.,#$%\\'()*+-/:;<=>@[\\\\]^_`{|}~`\" + '\"\"“”’' + '∞θ÷α•à−β∅³π‘₹´°£€\\×™√²—–&'\n",
        "    def clean_special_chars(text, punct):\n",
        "        for p in punct:\n",
        "            text = text.replace(p, ' ')\n",
        "        return text\n",
        "\n",
        "    data = data.astype(str).apply(lambda x: clean_special_chars(x, punct))\n",
        "    return data"
      ],
      "execution_count": null,
      "outputs": []
    },
    {
      "cell_type": "markdown",
      "metadata": {
        "id": "p-kamNBgclHc"
      },
      "source": [
        "# Preprocessing"
      ]
    },
    {
      "cell_type": "code",
      "metadata": {
        "trusted": true,
        "id": "cjgqWJHgclHc"
      },
      "source": [
        "valid_size = 100000\n",
        "num_to_load = 200000\n",
        "train = pd.read_csv('../input/jigsaw-unintended-bias-in-toxicity-classification/train.csv')\n",
        "#test = pd.read_csv('../input/jigsaw-unintended-bias-in-toxicity-classification/test.csv')\n",
        "\n",
        "test = train.tail(valid_size).copy()\n",
        "train=train.head(num_to_load)\n",
        "\n",
        "x_train = preprocess(train['comment_text'])\n",
        "y_train = np.where(train['target'] >= 0.5, 1, 0)\n",
        "y_aux_train = train[['target', 'severe_toxicity', 'obscene', 'identity_attack', 'insult', 'threat']]\n",
        "#x_test = preprocess(test['comment_text'])\n",
        "\n",
        "x_test = preprocess(test['comment_text'])\n",
        "y_test = np.where(test['target'] >= 0.5, 1, 0)\n",
        "y_aux_test = test[['target', 'severe_toxicity', 'obscene', 'identity_attack', 'insult', 'threat']]"
      ],
      "execution_count": null,
      "outputs": []
    },
    {
      "cell_type": "code",
      "metadata": {
        "trusted": true,
        "id": "FT-McmL-clHc",
        "outputId": "bbdd96dd-baf7-4855-b006-1f3a431c73e0"
      },
      "source": [
        "x_train.shape, y_train.shape, y_aux_train.shape, x_test.shape, y_test.shape, y_aux_test.shape, "
      ],
      "execution_count": null,
      "outputs": [
        {
          "output_type": "execute_result",
          "data": {
            "text/plain": [
              "((200000,), (200000,), (200000, 6), (100000,), (100000,), (100000, 6))"
            ]
          },
          "metadata": {
            "tags": []
          },
          "execution_count": 10
        }
      ]
    },
    {
      "cell_type": "code",
      "metadata": {
        "trusted": true,
        "id": "E3rUPL1AclHd",
        "outputId": "ed5c8c7f-76a3-4379-f3d4-e8e0d0f3a7dd"
      },
      "source": [
        "x_train"
      ],
      "execution_count": null,
      "outputs": [
        {
          "output_type": "execute_result",
          "data": {
            "text/plain": [
              "0         This is so cool  It s like   would you want yo...\n",
              "1         Thank you   This would make my life a lot less...\n",
              "2         This is such an urgent design problem  kudos t...\n",
              "3         Is this something I ll be able to install on m...\n",
              "4                      haha you guys are a bunch of losers \n",
              "5                                      ur a sh tty comment \n",
              "6                               hahahahahahahahhha suck it \n",
              "7                                       FFFFUUUUUUUUUUUUUUU\n",
              "8         The ranchers seem motivated by mostly by greed...\n",
              "9         It was a great show  Not a combo I d of expect...\n",
              "10                                  Wow  that sounds great \n",
              "11        This is a great story  Man  I wonder if the pe...\n",
              "12           This seems like a step in the right direction \n",
              "13        It s ridiculous that these guys are being call...\n",
              "14        This story gets more ridiculous by the hour  A...\n",
              "15        I agree  I don t want to grant them the legiti...\n",
              "16        Interesting  I ll be curious to see how this w...\n",
              "17                          Awesome  I love Civil Comments \n",
              "18        I m glad you re working on this  and I look fo...\n",
              "19        Angry trolls  misogynists and Racists   oh my ...\n",
              "20        Nice to some attempts to try to make comments ...\n",
              "21        One would hope that the purpose of introducing...\n",
              "22        Comments will be randomly chosen and be review...\n",
              "23        She would be a major improvement for city coun...\n",
              "24        I agree  Comments have so much potential to be...\n",
              "25        Great question  It s one we re asked a lot  We...\n",
              "26        Thanks  Christa   Will you be adding any featu...\n",
              "27        Our aim is actually the opposite  we want spir...\n",
              "28        Thanks  We re really going to try   not only t...\n",
              "29        I applaud Civil s efforts to create some new t...\n",
              "                                ...                        \n",
              "199970     If land desecration is such an issue  CLEAN U...\n",
              "199971    Imagine how much better life would be for the ...\n",
              "199972                    Thank you for the quick response \n",
              "199973    Call You Out as a trader and a paid spook for ...\n",
              "199974    All Convicted felons in halfway housed have a ...\n",
              "199975    Your reply is spot on  the inmates are scored ...\n",
              "199976    Like you say   you can t be that stupid   I th...\n",
              "199977    I wish to believe TMT would provide the STEM j...\n",
              "199978    Brad  I have huge issues with anyone who threa...\n",
              "199979    domestic \\n\\nThe reference is in regards to th...\n",
              "199980    Sorry Mr  Cooper  of the 330 that participated...\n",
              "199981                                 People go to supper \n",
              "199982    Thanks Andrew  I had to go all of the way to t...\n",
              "199983    The oil tax credits have to taken away from th...\n",
              "199984                            UNCONSTITUTIONAL   RACIST\n",
              "199985    Do some more coke Craig and Bill  You two are ...\n",
              "199986    Capitan   that investment in Virginia is a rea...\n",
              "199987    Ground control to Major Chong  \\n\\nTake your p...\n",
              "199988                    Is Yukon Gold airing this season \n",
              "199989    I went to one of Provos Sunday church services...\n",
              "199990                            Tarragon is tarrogent    \n",
              "199991    That s nice seeing how the CEO made  26 millio...\n",
              "199992    Let me guess  another entitled baby boomer tha...\n",
              "199993    Glad the survey results were revealed PRIOR to...\n",
              "199994    Frank  they need you at the visitors and conve...\n",
              "199995    Swooned like no other  ever  Except of course ...\n",
              "199996    It takes a big man to admit he was wrong  Mr  ...\n",
              "199997                                   Cal meant Putin   \n",
              "199998    Guaranteed  if you elect Metcalfe this year an...\n",
              "199999    I m guessing you don t know West High   It s c...\n",
              "Name: comment_text, Length: 200000, dtype: object"
            ]
          },
          "metadata": {
            "tags": []
          },
          "execution_count": 11
        }
      ]
    },
    {
      "cell_type": "code",
      "metadata": {
        "trusted": true,
        "id": "Ttk_N5zeclHd"
      },
      "source": [
        "tokenizer = text.Tokenizer()\n",
        "tokenizer.fit_on_texts(list(x_train) + list(x_test))\n",
        "\n",
        "x_train = tokenizer.texts_to_sequences(x_train)\n",
        "x_test = tokenizer.texts_to_sequences(x_test)\n",
        "x_train = sequence.pad_sequences(x_train, maxlen=MAX_LEN)\n",
        "x_test = sequence.pad_sequences(x_test, maxlen=MAX_LEN)"
      ],
      "execution_count": null,
      "outputs": []
    },
    {
      "cell_type": "code",
      "metadata": {
        "trusted": true,
        "id": "fIA8ejxjclHd",
        "outputId": "afb8cfed-377e-4d9c-93cb-ee8cf087921a"
      },
      "source": [
        "max_features = max_features or len(tokenizer.word_index) + 1\n",
        "max_features"
      ],
      "execution_count": null,
      "outputs": [
        {
          "output_type": "execute_result",
          "data": {
            "text/plain": [
              "120755"
            ]
          },
          "metadata": {
            "tags": []
          },
          "execution_count": 15
        }
      ]
    },
    {
      "cell_type": "code",
      "metadata": {
        "trusted": true,
        "id": "U8RkW6bJclHe",
        "outputId": "0c783113-7a35-425b-89bb-861309138062"
      },
      "source": [
        "crawl_matrix, unknown_words_crawl = build_matrix(tokenizer.word_index, CRAWL_EMBEDDING_PATH)\n",
        "print('n unknown words (crawl): ', len(unknown_words_crawl))"
      ],
      "execution_count": null,
      "outputs": [
        {
          "output_type": "stream",
          "text": [
            "n unknown words (crawl):  36875\n"
          ],
          "name": "stdout"
        }
      ]
    },
    {
      "cell_type": "code",
      "metadata": {
        "trusted": true,
        "id": "iFBtD3M8clHe",
        "outputId": "c979b1ff-f464-4df8-9c0e-1dba5e3f3b89"
      },
      "source": [
        "glove_matrix, unknown_words_glove = build_matrix(tokenizer.word_index, GLOVE_EMBEDDING_PATH)\n",
        "print('n unknown words (glove): ', len(unknown_words_glove))"
      ],
      "execution_count": null,
      "outputs": [
        {
          "output_type": "stream",
          "text": [
            "n unknown words (glove):  35435\n"
          ],
          "name": "stdout"
        }
      ]
    },
    {
      "cell_type": "code",
      "metadata": {
        "trusted": true,
        "id": "ffgUjX-IclHe",
        "outputId": "0f41704f-9706-49b1-86f7-a01adc32648a"
      },
      "source": [
        "embedding_matrix = np.concatenate([crawl_matrix, glove_matrix], axis=-1)\n",
        "embedding_matrix.shape\n",
        "\n",
        "del crawl_matrix\n",
        "del glove_matrix\n",
        "gc.collect()"
      ],
      "execution_count": null,
      "outputs": [
        {
          "output_type": "execute_result",
          "data": {
            "text/plain": [
              "0"
            ]
          },
          "metadata": {
            "tags": []
          },
          "execution_count": 18
        }
      ]
    },
    {
      "cell_type": "markdown",
      "metadata": {
        "id": "k0e3HV1nclHh"
      },
      "source": [
        "# Training"
      ]
    },
    {
      "cell_type": "markdown",
      "metadata": {
        "id": "k-bCNwHDdQbD"
      },
      "source": [
        "# 1. TfIDF featurization"
      ]
    },
    {
      "cell_type": "markdown",
      "metadata": {
        "id": "c4x_Pl8BdRj_"
      },
      "source": [
        "### 1.1. Random Forest"
      ]
    },
    {
      "cell_type": "code",
      "metadata": {
        "trusted": true,
        "id": "5nInI-vcclHl"
      },
      "source": [
        "from sklearn.ensemble import RandomForestClassifier\n",
        "from sklearn.feature_extraction.text import TfidfVectorizer"
      ],
      "execution_count": null,
      "outputs": []
    },
    {
      "cell_type": "code",
      "metadata": {
        "trusted": true,
        "id": "xsEwIN1lclHl"
      },
      "source": [
        "tf_model = TfidfVectorizer(min_df=5, max_features=50000)\n",
        "tf_train = tf_model.fit_transform(train['comment_text'])\n",
        "tf_test = tf_model.transform(test['comment_text'])"
      ],
      "execution_count": null,
      "outputs": []
    },
    {
      "cell_type": "code",
      "metadata": {
        "trusted": true,
        "id": "hzKyHc-xclHl",
        "outputId": "f1071d0a-bfa7-4475-f998-a54e687216f6"
      },
      "source": [
        "tf_train.shape, tf_test.shape"
      ],
      "execution_count": null,
      "outputs": [
        {
          "output_type": "execute_result",
          "data": {
            "text/plain": [
              "((200000, 34053), (100000, 34053))"
            ]
          },
          "metadata": {
            "tags": []
          },
          "execution_count": 76
        }
      ]
    },
    {
      "cell_type": "code",
      "metadata": {
        "trusted": true,
        "id": "IWNap_jIclHm"
      },
      "source": [
        "rf  = RandomForestClassifier(n_estimators=200)\n",
        "rf.fit(tf_train, y_train)\n",
        "rf_pred = rf.predict_proba(tf_test)\n",
        "test['rf'] = rf_pred[:,1]"
      ],
      "execution_count": null,
      "outputs": []
    },
    {
      "cell_type": "code",
      "metadata": {
        "trusted": true,
        "id": "digDgx8qclHm",
        "outputId": "e81f3cc4-98bc-49fa-8e82-7cb1d7f4ec46"
      },
      "source": [
        "from sklearn import metrics\n",
        "MODEL_NAME = 'rf'\n",
        "test[MODEL_NAME]=torch.sigmoid(torch.tensor(test[MODEL_NAME].values)).numpy()\n",
        "TOXICITY_COLUMN = 'target'\n",
        "bias_metrics_df = compute_bias_metrics_for_model(test, identity_columns, MODEL_NAME, 'target')\n",
        "bias_metrics_df\n",
        "get_final_metric(bias_metrics_df, calculate_overall_auc(test, MODEL_NAME))"
      ],
      "execution_count": null,
      "outputs": [
        {
          "output_type": "execute_result",
          "data": {
            "text/plain": [
              "0.8712983144401405"
            ]
          },
          "metadata": {
            "tags": []
          },
          "execution_count": 82
        }
      ]
    },
    {
      "cell_type": "code",
      "metadata": {
        "trusted": true,
        "id": "93Xa6JWFclHm",
        "outputId": "f5b0b5b9-6225-450d-f3f6-20c1af8f3516"
      },
      "source": [
        "bias_metrics_df"
      ],
      "execution_count": null,
      "outputs": [
        {
          "output_type": "execute_result",
          "data": {
            "text/plain": [
              "   bnsp_auc  bpsn_auc      ...       subgroup_auc  subgroup_size\n",
              "6  0.921959  0.765978      ...           0.753905            759\n",
              "7  0.925372  0.775918      ...           0.766114           1389\n",
              "2  0.929267  0.772655      ...           0.771203            735\n",
              "5  0.930215  0.787986      ...           0.830109            814\n",
              "8  0.938255  0.804347      ...           0.841100            315\n",
              "1  0.881770  0.906542      ...           0.859397           3501\n",
              "4  0.893053  0.896062      ...           0.870143            277\n",
              "0  0.905913  0.890344      ...           0.880728           2560\n",
              "3  0.891497  0.910346      ...           0.890250           1896\n",
              "\n",
              "[9 rows x 5 columns]"
            ],
            "text/html": [
              "<div>\n",
              "<style scoped>\n",
              "    .dataframe tbody tr th:only-of-type {\n",
              "        vertical-align: middle;\n",
              "    }\n",
              "\n",
              "    .dataframe tbody tr th {\n",
              "        vertical-align: top;\n",
              "    }\n",
              "\n",
              "    .dataframe thead th {\n",
              "        text-align: right;\n",
              "    }\n",
              "</style>\n",
              "<table border=\"1\" class=\"dataframe\">\n",
              "  <thead>\n",
              "    <tr style=\"text-align: right;\">\n",
              "      <th></th>\n",
              "      <th>bnsp_auc</th>\n",
              "      <th>bpsn_auc</th>\n",
              "      <th>subgroup</th>\n",
              "      <th>subgroup_auc</th>\n",
              "      <th>subgroup_size</th>\n",
              "    </tr>\n",
              "  </thead>\n",
              "  <tbody>\n",
              "    <tr>\n",
              "      <th>6</th>\n",
              "      <td>0.921959</td>\n",
              "      <td>0.765978</td>\n",
              "      <td>black</td>\n",
              "      <td>0.753905</td>\n",
              "      <td>759</td>\n",
              "    </tr>\n",
              "    <tr>\n",
              "      <th>7</th>\n",
              "      <td>0.925372</td>\n",
              "      <td>0.775918</td>\n",
              "      <td>white</td>\n",
              "      <td>0.766114</td>\n",
              "      <td>1389</td>\n",
              "    </tr>\n",
              "    <tr>\n",
              "      <th>2</th>\n",
              "      <td>0.929267</td>\n",
              "      <td>0.772655</td>\n",
              "      <td>homosexual_gay_or_lesbian</td>\n",
              "      <td>0.771203</td>\n",
              "      <td>735</td>\n",
              "    </tr>\n",
              "    <tr>\n",
              "      <th>5</th>\n",
              "      <td>0.930215</td>\n",
              "      <td>0.787986</td>\n",
              "      <td>muslim</td>\n",
              "      <td>0.830109</td>\n",
              "      <td>814</td>\n",
              "    </tr>\n",
              "    <tr>\n",
              "      <th>8</th>\n",
              "      <td>0.938255</td>\n",
              "      <td>0.804347</td>\n",
              "      <td>psychiatric_or_mental_illness</td>\n",
              "      <td>0.841100</td>\n",
              "      <td>315</td>\n",
              "    </tr>\n",
              "    <tr>\n",
              "      <th>1</th>\n",
              "      <td>0.881770</td>\n",
              "      <td>0.906542</td>\n",
              "      <td>female</td>\n",
              "      <td>0.859397</td>\n",
              "      <td>3501</td>\n",
              "    </tr>\n",
              "    <tr>\n",
              "      <th>4</th>\n",
              "      <td>0.893053</td>\n",
              "      <td>0.896062</td>\n",
              "      <td>jewish</td>\n",
              "      <td>0.870143</td>\n",
              "      <td>277</td>\n",
              "    </tr>\n",
              "    <tr>\n",
              "      <th>0</th>\n",
              "      <td>0.905913</td>\n",
              "      <td>0.890344</td>\n",
              "      <td>male</td>\n",
              "      <td>0.880728</td>\n",
              "      <td>2560</td>\n",
              "    </tr>\n",
              "    <tr>\n",
              "      <th>3</th>\n",
              "      <td>0.891497</td>\n",
              "      <td>0.910346</td>\n",
              "      <td>christian</td>\n",
              "      <td>0.890250</td>\n",
              "      <td>1896</td>\n",
              "    </tr>\n",
              "  </tbody>\n",
              "</table>\n",
              "</div>"
            ]
          },
          "metadata": {
            "tags": []
          },
          "execution_count": 83
        }
      ]
    },
    {
      "cell_type": "markdown",
      "metadata": {
        "id": "y2WguShjdE0X"
      },
      "source": [
        "### 1.2. Logistic Regression"
      ]
    },
    {
      "cell_type": "code",
      "metadata": {
        "trusted": true,
        "id": "4b2A5KrNclHm"
      },
      "source": [
        "from sklearn.linear_model import LogisticRegression"
      ],
      "execution_count": null,
      "outputs": []
    },
    {
      "cell_type": "code",
      "metadata": {
        "trusted": true,
        "id": "J3upb2ADclHn"
      },
      "source": [
        "lr = LogisticRegression(C=10)\n",
        "lr.fit(tf_train, y_train)\n",
        "lr_pred = lr.predict_proba(tf_test)\n",
        "test['lr'] = lr_pred[:,1]"
      ],
      "execution_count": null,
      "outputs": []
    },
    {
      "cell_type": "code",
      "metadata": {
        "trusted": true,
        "id": "vzTBO7JRclHn",
        "outputId": "35e1865a-fbda-4a04-a304-ddc8e3a129db"
      },
      "source": [
        "MODEL_NAME = 'lr'\n",
        "test[MODEL_NAME]=torch.sigmoid(torch.tensor(test[MODEL_NAME].values)).numpy()\n",
        "TOXICITY_COLUMN = 'target'\n",
        "bias_metrics_df = compute_bias_metrics_for_model(test, identity_columns, MODEL_NAME, 'target')\n",
        "bias_metrics_df\n",
        "get_final_metric(bias_metrics_df, calculate_overall_auc(test, MODEL_NAME))"
      ],
      "execution_count": null,
      "outputs": [
        {
          "output_type": "execute_result",
          "data": {
            "text/plain": [
              "0.8797335758375741"
            ]
          },
          "metadata": {
            "tags": []
          },
          "execution_count": 90
        }
      ]
    },
    {
      "cell_type": "code",
      "metadata": {
        "trusted": true,
        "id": "GDhab-BRclHo",
        "outputId": "1011d723-60da-4b2d-c426-c9f58bad1cb9"
      },
      "source": [
        "bias_metrics_df"
      ],
      "execution_count": null,
      "outputs": [
        {
          "output_type": "execute_result",
          "data": {
            "text/plain": [
              "   bnsp_auc  bpsn_auc      ...       subgroup_auc  subgroup_size\n",
              "2  0.930951  0.761614      ...           0.773135            735\n",
              "6  0.930414  0.762808      ...           0.786658            759\n",
              "5  0.911243  0.813690      ...           0.799155            814\n",
              "7  0.941146  0.777626      ...           0.811635           1389\n",
              "1  0.918119  0.884744      ...           0.882017           3501\n",
              "0  0.927893  0.870640      ...           0.882635           2560\n",
              "4  0.936426  0.861494      ...           0.887701            277\n",
              "8  0.953043  0.827293      ...           0.888695            315\n",
              "3  0.911464  0.898412      ...           0.892147           1896\n",
              "\n",
              "[9 rows x 5 columns]"
            ],
            "text/html": [
              "<div>\n",
              "<style scoped>\n",
              "    .dataframe tbody tr th:only-of-type {\n",
              "        vertical-align: middle;\n",
              "    }\n",
              "\n",
              "    .dataframe tbody tr th {\n",
              "        vertical-align: top;\n",
              "    }\n",
              "\n",
              "    .dataframe thead th {\n",
              "        text-align: right;\n",
              "    }\n",
              "</style>\n",
              "<table border=\"1\" class=\"dataframe\">\n",
              "  <thead>\n",
              "    <tr style=\"text-align: right;\">\n",
              "      <th></th>\n",
              "      <th>bnsp_auc</th>\n",
              "      <th>bpsn_auc</th>\n",
              "      <th>subgroup</th>\n",
              "      <th>subgroup_auc</th>\n",
              "      <th>subgroup_size</th>\n",
              "    </tr>\n",
              "  </thead>\n",
              "  <tbody>\n",
              "    <tr>\n",
              "      <th>2</th>\n",
              "      <td>0.930951</td>\n",
              "      <td>0.761614</td>\n",
              "      <td>homosexual_gay_or_lesbian</td>\n",
              "      <td>0.773135</td>\n",
              "      <td>735</td>\n",
              "    </tr>\n",
              "    <tr>\n",
              "      <th>6</th>\n",
              "      <td>0.930414</td>\n",
              "      <td>0.762808</td>\n",
              "      <td>black</td>\n",
              "      <td>0.786658</td>\n",
              "      <td>759</td>\n",
              "    </tr>\n",
              "    <tr>\n",
              "      <th>5</th>\n",
              "      <td>0.911243</td>\n",
              "      <td>0.813690</td>\n",
              "      <td>muslim</td>\n",
              "      <td>0.799155</td>\n",
              "      <td>814</td>\n",
              "    </tr>\n",
              "    <tr>\n",
              "      <th>7</th>\n",
              "      <td>0.941146</td>\n",
              "      <td>0.777626</td>\n",
              "      <td>white</td>\n",
              "      <td>0.811635</td>\n",
              "      <td>1389</td>\n",
              "    </tr>\n",
              "    <tr>\n",
              "      <th>1</th>\n",
              "      <td>0.918119</td>\n",
              "      <td>0.884744</td>\n",
              "      <td>female</td>\n",
              "      <td>0.882017</td>\n",
              "      <td>3501</td>\n",
              "    </tr>\n",
              "    <tr>\n",
              "      <th>0</th>\n",
              "      <td>0.927893</td>\n",
              "      <td>0.870640</td>\n",
              "      <td>male</td>\n",
              "      <td>0.882635</td>\n",
              "      <td>2560</td>\n",
              "    </tr>\n",
              "    <tr>\n",
              "      <th>4</th>\n",
              "      <td>0.936426</td>\n",
              "      <td>0.861494</td>\n",
              "      <td>jewish</td>\n",
              "      <td>0.887701</td>\n",
              "      <td>277</td>\n",
              "    </tr>\n",
              "    <tr>\n",
              "      <th>8</th>\n",
              "      <td>0.953043</td>\n",
              "      <td>0.827293</td>\n",
              "      <td>psychiatric_or_mental_illness</td>\n",
              "      <td>0.888695</td>\n",
              "      <td>315</td>\n",
              "    </tr>\n",
              "    <tr>\n",
              "      <th>3</th>\n",
              "      <td>0.911464</td>\n",
              "      <td>0.898412</td>\n",
              "      <td>christian</td>\n",
              "      <td>0.892147</td>\n",
              "      <td>1896</td>\n",
              "    </tr>\n",
              "  </tbody>\n",
              "</table>\n",
              "</div>"
            ]
          },
          "metadata": {
            "tags": []
          },
          "execution_count": 91
        }
      ]
    },
    {
      "cell_type": "code",
      "metadata": {
        "id": "ls134jAZclHo"
      },
      "source": [
        ""
      ],
      "execution_count": null,
      "outputs": []
    },
    {
      "cell_type": "markdown",
      "metadata": {
        "id": "sne-yrUFdXiZ"
      },
      "source": [
        "# 2. Glove Embeddings"
      ]
    },
    {
      "cell_type": "code",
      "metadata": {
        "trusted": true,
        "id": "7bFVR82-clHo"
      },
      "source": [
        "GLOVE_EMBEDDING_PATH = '../input/glove840b300dtxt/glove.840B.300d.txt'"
      ],
      "execution_count": null,
      "outputs": []
    },
    {
      "cell_type": "code",
      "metadata": {
        "trusted": true,
        "id": "nGh12W_UclHp"
      },
      "source": [
        "embeddings_dict = {}\n",
        "errors=[]\n",
        "with open(GLOVE_EMBEDDING_PATH, 'r') as f:\n",
        "    for line in f:\n",
        "        try:\n",
        "            values = line.split()\n",
        "            word = values[0]\n",
        "            vector = np.asarray(values[1:], \"float32\")\n",
        "            embeddings_dict[word] = vector\n",
        "        except:\n",
        "            errors.append(line)"
      ],
      "execution_count": null,
      "outputs": []
    },
    {
      "cell_type": "code",
      "metadata": {
        "trusted": true,
        "id": "Bhbq5tqHclHr"
      },
      "source": [
        "def generate_embeddings_from_text(texts):\n",
        "    emb_mat = []\n",
        "    for text in texts:\n",
        "        N=0\n",
        "        sentence_emb = np.zeros(embeddings_dict['no'].shape[0])\n",
        "        for word in nltk.tokenize.word_tokenize(text):\n",
        "            if word in embeddings_dict:\n",
        "                N+=1\n",
        "                sentence_emb += embeddings_dict[word]\n",
        "        if N!=0:\n",
        "            sentence_emb = sentence_emb/N\n",
        "        emb_mat.append(sentence_emb)\n",
        "    return np.array(emb_mat)"
      ],
      "execution_count": null,
      "outputs": []
    },
    {
      "cell_type": "code",
      "metadata": {
        "trusted": true,
        "id": "6BdXCXtjclHs"
      },
      "source": [
        "glove_train = generate_embeddings_from_text(train['comment_text'])\n",
        "glove_test = generate_embeddings_from_text(test['comment_text'])"
      ],
      "execution_count": null,
      "outputs": []
    },
    {
      "cell_type": "markdown",
      "metadata": {
        "id": "_4PMygaJdiuL"
      },
      "source": [
        "### 2.1. Random Forest"
      ]
    },
    {
      "cell_type": "code",
      "metadata": {
        "trusted": true,
        "id": "YhBlaDz0clHs"
      },
      "source": [
        "rf  = RandomForestClassifier(n_estimators=100, max_depth=10)\n",
        "rf.fit(glove_train, y_train)\n",
        "rf_pred = rf.predict_proba(glove_test)\n",
        "test['rf_glove'] = rf_pred[:,1]"
      ],
      "execution_count": null,
      "outputs": []
    },
    {
      "cell_type": "code",
      "metadata": {
        "trusted": true,
        "id": "qW53MVulclHs",
        "outputId": "0953fb9c-59cb-4135-ea73-5575558f5ca2"
      },
      "source": [
        "MODEL_NAME = 'rf_glove'\n",
        "test[MODEL_NAME]=torch.sigmoid(torch.tensor(test[MODEL_NAME].values)).numpy()\n",
        "TOXICITY_COLUMN = 'target'\n",
        "bias_metrics_df = compute_bias_metrics_for_model(test, identity_columns, MODEL_NAME, 'target')\n",
        "bias_metrics_df\n",
        "get_final_metric(bias_metrics_df, calculate_overall_auc(test, MODEL_NAME))"
      ],
      "execution_count": null,
      "outputs": [
        {
          "output_type": "execute_result",
          "data": {
            "text/plain": [
              "0.8070393202733446"
            ]
          },
          "metadata": {
            "tags": []
          },
          "execution_count": 120
        }
      ]
    },
    {
      "cell_type": "code",
      "metadata": {
        "trusted": true,
        "id": "WJICnio-clHt",
        "outputId": "ce5c062f-4583-4a2f-ddae-2f7b9b20cb43"
      },
      "source": [
        "bias_metrics_df"
      ],
      "execution_count": null,
      "outputs": [
        {
          "output_type": "execute_result",
          "data": {
            "text/plain": [
              "   bnsp_auc  bpsn_auc      ...       subgroup_auc  subgroup_size\n",
              "2  0.828783  0.736331      ...           0.732546            735\n",
              "7  0.887964  0.666783      ...           0.756811           1389\n",
              "6  0.871147  0.715847      ...           0.774645            759\n",
              "5  0.875299  0.723779      ...           0.795292            814\n",
              "0  0.866337  0.754650      ...           0.805607           2560\n",
              "1  0.858083  0.780047      ...           0.821051           3501\n",
              "4  0.845941  0.801471      ...           0.829947            277\n",
              "8  0.839903  0.823579      ...           0.843681            315\n",
              "3  0.865707  0.802261      ...           0.851496           1896\n",
              "\n",
              "[9 rows x 5 columns]"
            ],
            "text/html": [
              "<div>\n",
              "<style scoped>\n",
              "    .dataframe tbody tr th:only-of-type {\n",
              "        vertical-align: middle;\n",
              "    }\n",
              "\n",
              "    .dataframe tbody tr th {\n",
              "        vertical-align: top;\n",
              "    }\n",
              "\n",
              "    .dataframe thead th {\n",
              "        text-align: right;\n",
              "    }\n",
              "</style>\n",
              "<table border=\"1\" class=\"dataframe\">\n",
              "  <thead>\n",
              "    <tr style=\"text-align: right;\">\n",
              "      <th></th>\n",
              "      <th>bnsp_auc</th>\n",
              "      <th>bpsn_auc</th>\n",
              "      <th>subgroup</th>\n",
              "      <th>subgroup_auc</th>\n",
              "      <th>subgroup_size</th>\n",
              "    </tr>\n",
              "  </thead>\n",
              "  <tbody>\n",
              "    <tr>\n",
              "      <th>2</th>\n",
              "      <td>0.828783</td>\n",
              "      <td>0.736331</td>\n",
              "      <td>homosexual_gay_or_lesbian</td>\n",
              "      <td>0.732546</td>\n",
              "      <td>735</td>\n",
              "    </tr>\n",
              "    <tr>\n",
              "      <th>7</th>\n",
              "      <td>0.887964</td>\n",
              "      <td>0.666783</td>\n",
              "      <td>white</td>\n",
              "      <td>0.756811</td>\n",
              "      <td>1389</td>\n",
              "    </tr>\n",
              "    <tr>\n",
              "      <th>6</th>\n",
              "      <td>0.871147</td>\n",
              "      <td>0.715847</td>\n",
              "      <td>black</td>\n",
              "      <td>0.774645</td>\n",
              "      <td>759</td>\n",
              "    </tr>\n",
              "    <tr>\n",
              "      <th>5</th>\n",
              "      <td>0.875299</td>\n",
              "      <td>0.723779</td>\n",
              "      <td>muslim</td>\n",
              "      <td>0.795292</td>\n",
              "      <td>814</td>\n",
              "    </tr>\n",
              "    <tr>\n",
              "      <th>0</th>\n",
              "      <td>0.866337</td>\n",
              "      <td>0.754650</td>\n",
              "      <td>male</td>\n",
              "      <td>0.805607</td>\n",
              "      <td>2560</td>\n",
              "    </tr>\n",
              "    <tr>\n",
              "      <th>1</th>\n",
              "      <td>0.858083</td>\n",
              "      <td>0.780047</td>\n",
              "      <td>female</td>\n",
              "      <td>0.821051</td>\n",
              "      <td>3501</td>\n",
              "    </tr>\n",
              "    <tr>\n",
              "      <th>4</th>\n",
              "      <td>0.845941</td>\n",
              "      <td>0.801471</td>\n",
              "      <td>jewish</td>\n",
              "      <td>0.829947</td>\n",
              "      <td>277</td>\n",
              "    </tr>\n",
              "    <tr>\n",
              "      <th>8</th>\n",
              "      <td>0.839903</td>\n",
              "      <td>0.823579</td>\n",
              "      <td>psychiatric_or_mental_illness</td>\n",
              "      <td>0.843681</td>\n",
              "      <td>315</td>\n",
              "    </tr>\n",
              "    <tr>\n",
              "      <th>3</th>\n",
              "      <td>0.865707</td>\n",
              "      <td>0.802261</td>\n",
              "      <td>christian</td>\n",
              "      <td>0.851496</td>\n",
              "      <td>1896</td>\n",
              "    </tr>\n",
              "  </tbody>\n",
              "</table>\n",
              "</div>"
            ]
          },
          "metadata": {
            "tags": []
          },
          "execution_count": 121
        }
      ]
    },
    {
      "cell_type": "code",
      "metadata": {
        "id": "US1pE07aclHt"
      },
      "source": [
        ""
      ],
      "execution_count": null,
      "outputs": []
    },
    {
      "cell_type": "markdown",
      "metadata": {
        "id": "4Yl0bnREdkDX"
      },
      "source": [
        "### 2.2. Logistic Regression"
      ]
    },
    {
      "cell_type": "code",
      "metadata": {
        "trusted": true,
        "id": "uY-WIRb_clHt",
        "outputId": "0d38defa-320a-4795-8583-fa47a67f549d"
      },
      "source": [
        "lr = LogisticRegression(C=10)\n",
        "lr.fit(glove_train, y_train)\n",
        "lr_pred = lr.predict_proba(glove_test)\n",
        "test['lr_glove'] = lr_pred[:,1]"
      ],
      "execution_count": null,
      "outputs": [
        {
          "output_type": "stream",
          "text": [
            "/opt/conda/lib/python3.6/site-packages/sklearn/linear_model/logistic.py:433: FutureWarning: Default solver will be changed to 'lbfgs' in 0.22. Specify a solver to silence this warning.\n",
            "  FutureWarning)\n"
          ],
          "name": "stderr"
        }
      ]
    },
    {
      "cell_type": "code",
      "metadata": {
        "trusted": true,
        "id": "bp73M1VIclHt",
        "outputId": "3392ff3b-d3c2-4212-f15c-b7633777c0f7"
      },
      "source": [
        "MODEL_NAME = 'lr_glove'\n",
        "test[MODEL_NAME]=torch.sigmoid(torch.tensor(test[MODEL_NAME].values)).numpy()\n",
        "TOXICITY_COLUMN = 'target'\n",
        "bias_metrics_df = compute_bias_metrics_for_model(test, identity_columns, MODEL_NAME, 'target')\n",
        "bias_metrics_df\n",
        "get_final_metric(bias_metrics_df, calculate_overall_auc(test, MODEL_NAME))"
      ],
      "execution_count": null,
      "outputs": [
        {
          "output_type": "execute_result",
          "data": {
            "text/plain": [
              "0.8332227519593121"
            ]
          },
          "metadata": {
            "tags": []
          },
          "execution_count": 123
        }
      ]
    },
    {
      "cell_type": "code",
      "metadata": {
        "trusted": true,
        "id": "a8Ga7BYCclHt",
        "outputId": "ad89f526-f837-44c2-c61a-bd2effce5eeb"
      },
      "source": [
        "bias_metrics_df"
      ],
      "execution_count": null,
      "outputs": [
        {
          "output_type": "execute_result",
          "data": {
            "text/plain": [
              "   bnsp_auc  bpsn_auc      ...       subgroup_auc  subgroup_size\n",
              "6  0.873948  0.728746      ...           0.749976            759\n",
              "2  0.863542  0.759076      ...           0.759111            735\n",
              "7  0.898582  0.719880      ...           0.780258           1389\n",
              "0  0.891513  0.771910      ...           0.816787           2560\n",
              "5  0.883134  0.772659      ...           0.818569            814\n",
              "8  0.866037  0.819641      ...           0.831931            315\n",
              "1  0.891176  0.790959      ...           0.834102           3501\n",
              "4  0.850176  0.858997      ...           0.859180            277\n",
              "3  0.861721  0.867139      ...           0.879738           1896\n",
              "\n",
              "[9 rows x 5 columns]"
            ],
            "text/html": [
              "<div>\n",
              "<style scoped>\n",
              "    .dataframe tbody tr th:only-of-type {\n",
              "        vertical-align: middle;\n",
              "    }\n",
              "\n",
              "    .dataframe tbody tr th {\n",
              "        vertical-align: top;\n",
              "    }\n",
              "\n",
              "    .dataframe thead th {\n",
              "        text-align: right;\n",
              "    }\n",
              "</style>\n",
              "<table border=\"1\" class=\"dataframe\">\n",
              "  <thead>\n",
              "    <tr style=\"text-align: right;\">\n",
              "      <th></th>\n",
              "      <th>bnsp_auc</th>\n",
              "      <th>bpsn_auc</th>\n",
              "      <th>subgroup</th>\n",
              "      <th>subgroup_auc</th>\n",
              "      <th>subgroup_size</th>\n",
              "    </tr>\n",
              "  </thead>\n",
              "  <tbody>\n",
              "    <tr>\n",
              "      <th>6</th>\n",
              "      <td>0.873948</td>\n",
              "      <td>0.728746</td>\n",
              "      <td>black</td>\n",
              "      <td>0.749976</td>\n",
              "      <td>759</td>\n",
              "    </tr>\n",
              "    <tr>\n",
              "      <th>2</th>\n",
              "      <td>0.863542</td>\n",
              "      <td>0.759076</td>\n",
              "      <td>homosexual_gay_or_lesbian</td>\n",
              "      <td>0.759111</td>\n",
              "      <td>735</td>\n",
              "    </tr>\n",
              "    <tr>\n",
              "      <th>7</th>\n",
              "      <td>0.898582</td>\n",
              "      <td>0.719880</td>\n",
              "      <td>white</td>\n",
              "      <td>0.780258</td>\n",
              "      <td>1389</td>\n",
              "    </tr>\n",
              "    <tr>\n",
              "      <th>0</th>\n",
              "      <td>0.891513</td>\n",
              "      <td>0.771910</td>\n",
              "      <td>male</td>\n",
              "      <td>0.816787</td>\n",
              "      <td>2560</td>\n",
              "    </tr>\n",
              "    <tr>\n",
              "      <th>5</th>\n",
              "      <td>0.883134</td>\n",
              "      <td>0.772659</td>\n",
              "      <td>muslim</td>\n",
              "      <td>0.818569</td>\n",
              "      <td>814</td>\n",
              "    </tr>\n",
              "    <tr>\n",
              "      <th>8</th>\n",
              "      <td>0.866037</td>\n",
              "      <td>0.819641</td>\n",
              "      <td>psychiatric_or_mental_illness</td>\n",
              "      <td>0.831931</td>\n",
              "      <td>315</td>\n",
              "    </tr>\n",
              "    <tr>\n",
              "      <th>1</th>\n",
              "      <td>0.891176</td>\n",
              "      <td>0.790959</td>\n",
              "      <td>female</td>\n",
              "      <td>0.834102</td>\n",
              "      <td>3501</td>\n",
              "    </tr>\n",
              "    <tr>\n",
              "      <th>4</th>\n",
              "      <td>0.850176</td>\n",
              "      <td>0.858997</td>\n",
              "      <td>jewish</td>\n",
              "      <td>0.859180</td>\n",
              "      <td>277</td>\n",
              "    </tr>\n",
              "    <tr>\n",
              "      <th>3</th>\n",
              "      <td>0.861721</td>\n",
              "      <td>0.867139</td>\n",
              "      <td>christian</td>\n",
              "      <td>0.879738</td>\n",
              "      <td>1896</td>\n",
              "    </tr>\n",
              "  </tbody>\n",
              "</table>\n",
              "</div>"
            ]
          },
          "metadata": {
            "tags": []
          },
          "execution_count": 124
        }
      ]
    }
  ]
}